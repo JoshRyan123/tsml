{
 "cells": [
  {
   "cell_type": "markdown",
   "metadata": {},
   "source": [
    "Demo for usage of Linear classifier"
   ]
  },
  {
   "cell_type": "code",
   "execution_count": 1,
   "metadata": {},
   "outputs": [],
   "source": [
    "import pandas as pd\n",
    "import numpy as np\n",
    "\n",
    "from sklearn.model_selection import train_test_split\n",
    "from sklearn.preprocessing import StandardScaler\n",
    "from sklearn.linear_model import LinearRegression\n",
    "from sklearn.metrics import confusion_matrix\n",
    "from sklearn.metrics import f1_score\n",
    "from sklearn.metrics import accuracy_score"
   ]
  },
  {
   "cell_type": "code",
   "execution_count": 2,
   "metadata": {},
   "outputs": [
    {
     "data": {
      "text/html": [
       "<div>\n",
       "<style scoped>\n",
       "    .dataframe tbody tr th:only-of-type {\n",
       "        vertical-align: middle;\n",
       "    }\n",
       "\n",
       "    .dataframe tbody tr th {\n",
       "        vertical-align: top;\n",
       "    }\n",
       "\n",
       "    .dataframe thead th {\n",
       "        text-align: right;\n",
       "    }\n",
       "</style>\n",
       "<table border=\"1\" class=\"dataframe\">\n",
       "  <thead>\n",
       "    <tr style=\"text-align: right;\">\n",
       "      <th></th>\n",
       "      <th>Unnamed: 0</th>\n",
       "      <th>Pregnancies</th>\n",
       "      <th>Glucose</th>\n",
       "      <th>BloodPressure</th>\n",
       "      <th>SkinThickness</th>\n",
       "      <th>Insulin</th>\n",
       "      <th>BMI</th>\n",
       "      <th>DiabetesPedigreeFunction</th>\n",
       "      <th>Age</th>\n",
       "      <th>Outcome</th>\n",
       "    </tr>\n",
       "  </thead>\n",
       "  <tbody>\n",
       "    <tr>\n",
       "      <th>0</th>\n",
       "      <td>0</td>\n",
       "      <td>6</td>\n",
       "      <td>148.0</td>\n",
       "      <td>72.0</td>\n",
       "      <td>35.0</td>\n",
       "      <td>155.0</td>\n",
       "      <td>33.6</td>\n",
       "      <td>0.627</td>\n",
       "      <td>50</td>\n",
       "      <td>1</td>\n",
       "    </tr>\n",
       "    <tr>\n",
       "      <th>1</th>\n",
       "      <td>1</td>\n",
       "      <td>1</td>\n",
       "      <td>85.0</td>\n",
       "      <td>66.0</td>\n",
       "      <td>29.0</td>\n",
       "      <td>155.0</td>\n",
       "      <td>26.6</td>\n",
       "      <td>0.351</td>\n",
       "      <td>31</td>\n",
       "      <td>0</td>\n",
       "    </tr>\n",
       "    <tr>\n",
       "      <th>2</th>\n",
       "      <td>2</td>\n",
       "      <td>8</td>\n",
       "      <td>183.0</td>\n",
       "      <td>64.0</td>\n",
       "      <td>29.0</td>\n",
       "      <td>155.0</td>\n",
       "      <td>23.3</td>\n",
       "      <td>0.672</td>\n",
       "      <td>32</td>\n",
       "      <td>1</td>\n",
       "    </tr>\n",
       "    <tr>\n",
       "      <th>3</th>\n",
       "      <td>3</td>\n",
       "      <td>1</td>\n",
       "      <td>89.0</td>\n",
       "      <td>66.0</td>\n",
       "      <td>23.0</td>\n",
       "      <td>94.0</td>\n",
       "      <td>28.1</td>\n",
       "      <td>0.167</td>\n",
       "      <td>21</td>\n",
       "      <td>0</td>\n",
       "    </tr>\n",
       "    <tr>\n",
       "      <th>4</th>\n",
       "      <td>4</td>\n",
       "      <td>0</td>\n",
       "      <td>137.0</td>\n",
       "      <td>40.0</td>\n",
       "      <td>35.0</td>\n",
       "      <td>168.0</td>\n",
       "      <td>43.1</td>\n",
       "      <td>2.288</td>\n",
       "      <td>33</td>\n",
       "      <td>1</td>\n",
       "    </tr>\n",
       "  </tbody>\n",
       "</table>\n",
       "</div>"
      ],
      "text/plain": [
       "   Unnamed: 0  Pregnancies  Glucose  BloodPressure  SkinThickness  Insulin  \\\n",
       "0           0            6    148.0           72.0           35.0    155.0   \n",
       "1           1            1     85.0           66.0           29.0    155.0   \n",
       "2           2            8    183.0           64.0           29.0    155.0   \n",
       "3           3            1     89.0           66.0           23.0     94.0   \n",
       "4           4            0    137.0           40.0           35.0    168.0   \n",
       "\n",
       "    BMI  DiabetesPedigreeFunction  Age  Outcome  \n",
       "0  33.6                     0.627   50        1  \n",
       "1  26.6                     0.351   31        0  \n",
       "2  23.3                     0.672   32        1  \n",
       "3  28.1                     0.167   21        0  \n",
       "4  43.1                     2.288   33        1  "
      ]
     },
     "execution_count": 2,
     "metadata": {},
     "output_type": "execute_result"
    }
   ],
   "source": [
    "# load data\n",
    "data = pd.read_csv(\"diabetes_new.csv\")\n",
    "data.head(5)"
   ]
  },
  {
   "cell_type": "code",
   "execution_count": 3,
   "metadata": {},
   "outputs": [
    {
     "data": {
      "text/plain": [
       "(768, 10)"
      ]
     },
     "execution_count": 3,
     "metadata": {},
     "output_type": "execute_result"
    }
   ],
   "source": [
    "data.shape\n",
    "# data.describe()\n",
    "# data['Outcome'].unique()"
   ]
  },
  {
   "cell_type": "code",
   "execution_count": 4,
   "metadata": {},
   "outputs": [],
   "source": [
    "# specify input and ouput data\n",
    "X = data.iloc[:, 0:(len(data.columns)-1)] # input\n",
    "y = data.iloc[:, len(data.columns)-1]   # output\n",
    "\n",
    "# split data for training and testing\n",
    "X_train, X_test, y_train, y_test = train_test_split(X, y, test_size=0.3, random_state=42)"
   ]
  },
  {
   "cell_type": "code",
   "execution_count": 5,
   "metadata": {},
   "outputs": [],
   "source": [
    "# standadize input data\n",
    "scaler = StandardScaler()\n",
    "X_train_scaled = scaler.fit_transform(X_train)\n",
    "X_test_scaled = scaler.transform(X_test)"
   ]
  },
  {
   "cell_type": "code",
   "execution_count": 6,
   "metadata": {},
   "outputs": [
    {
     "data": {
      "text/plain": [
       "(array([-0.01611157,  0.03032066,  0.1979481 , -0.01427682,  0.00043618,\n",
       "         0.00202305,  0.11339384,  0.01574726,  0.06376314]),\n",
       " 0.35009310986964626)"
      ]
     },
     "execution_count": 6,
     "metadata": {},
     "output_type": "execute_result"
    }
   ],
   "source": [
    "# define and train KNN model\n",
    "model = LinearRegression().fit(X_train_scaled, y_train)\n",
    "model.coef_, model.intercept_"
   ]
  },
  {
   "cell_type": "code",
   "execution_count": 7,
   "metadata": {},
   "outputs": [
    {
     "name": "stdout",
     "output_type": "stream",
     "text": [
      "[ 2.91488370e-01  2.45175769e-01  1.30329034e-01  1.58138694e-01\n",
      "  4.87600263e-01  4.62715517e-01 -2.23903905e-01  3.92707459e-01\n",
      "  5.49194880e-01  7.23291771e-01  2.63406552e-01  9.06144597e-01\n",
      "  4.96310956e-01  2.95606705e-01 -1.31472909e-02  3.85598810e-01\n",
      "  1.29165313e-01  3.51487000e-02  6.79379441e-01  5.71418654e-01\n",
      "  2.33996586e-01  4.98972797e-02  4.77181237e-01  1.15909519e-01\n",
      "  5.39969881e-01  8.78428306e-01  1.22286599e-01 -9.41713675e-02\n",
      "  3.35298748e-01  1.19195660e-01  9.04101023e-01  7.94795518e-01\n",
      "  8.10642745e-01  6.18840905e-01  5.50570253e-01  6.44617923e-01\n",
      "  1.02198542e+00  2.83623841e-01  4.53366733e-01  5.27936831e-01\n",
      "  8.38864850e-03  5.03981439e-01  5.10729508e-01  3.09689022e-01\n",
      " -6.53430557e-02  5.83241585e-01  5.54719777e-01  2.58493891e-01\n",
      "  3.42945712e-01  1.03947803e+00 -4.48712959e-02  6.13821993e-01\n",
      "  7.91590206e-01  3.04501579e-01  1.87276039e-01 -6.35759045e-02\n",
      "  7.14449184e-01 -1.85724546e-02  3.82260023e-01  7.11120868e-01\n",
      "  6.33109735e-01  3.43960932e-01  3.35767624e-01  2.57662953e-01\n",
      "  7.75218660e-02  5.96882631e-01 -3.52386837e-02  7.20656624e-01\n",
      " -5.03061949e-02  8.16230250e-01  7.01359070e-01  5.18773689e-03\n",
      "  1.83627612e-01  1.64246064e-01  7.69798242e-02  4.77349858e-01\n",
      "  1.60779000e-01  1.21163434e-01  1.97340262e-01  3.35575691e-01\n",
      "  6.27055537e-01  1.63824941e-01  9.54801790e-04  4.61855608e-01\n",
      "  3.18153048e-01  8.28326337e-01  8.76042587e-01  3.71361741e-01\n",
      "  1.60849004e-01  7.07285824e-02  4.00886373e-02  2.78113967e-01\n",
      " -4.05093508e-02  3.48001006e-01  4.92179832e-01  5.78452242e-01\n",
      "  3.55064172e-01  1.08277001e-01  7.11220006e-01  4.73144226e-02\n",
      "  6.71685028e-01  2.01558116e-02  7.00411705e-01  5.67216358e-01\n",
      "  5.96577736e-01  2.98087686e-01  3.48144895e-01  6.85990478e-01\n",
      "  7.04362390e-02  4.35308990e-01  9.41229587e-02  4.19563184e-01\n",
      "  2.32402277e-01  7.56039487e-01  2.51608604e-01  3.30322223e-01\n",
      "  6.81545612e-01  2.69042012e-01 -5.65747430e-03  4.02317905e-01\n",
      "  3.49597816e-02  2.98857122e-01  3.12363872e-01 -1.35204361e-04\n",
      "  3.76380656e-01  4.00319929e-01  3.08864948e-01  7.95077179e-01\n",
      "  8.87110372e-01  7.07101059e-01  6.86098115e-01  8.31181249e-01\n",
      "  9.78514631e-02  4.51313276e-01  7.95883141e-01  1.19101544e-01\n",
      "  2.02463680e-01  8.15504938e-01  7.13941098e-01 -2.92826122e-01\n",
      "  1.22408073e-01 -8.40234475e-02  2.94544210e-01  5.24340643e-01\n",
      "  1.13953151e-01  2.86880713e-01  1.04437748e-01 -1.75111390e-01\n",
      "  3.88628902e-01  7.14724131e-01  3.83460800e-02  4.21199985e-01\n",
      "  4.08699742e-01  1.62301974e-01  3.06084358e-02  3.68646792e-01\n",
      "  3.58040168e-01  6.00317058e-01  7.45120233e-01  2.17409600e-01\n",
      "  3.55614473e-01  6.34192838e-01  2.25098668e-01 -1.99617240e-01\n",
      "  1.30113027e-01  8.32798928e-01 -2.41308843e-03  4.16463587e-01\n",
      "  7.84956695e-01  4.83132119e-01  6.09049727e-01  2.18917350e-01\n",
      "  3.75297119e-01  6.65435260e-01  6.99496075e-01  7.66165436e-02\n",
      "  3.81901967e-01  2.76231330e-01  2.83022182e-01  3.68454751e-01\n",
      "  5.57174824e-01  5.96681748e-01  3.67397589e-01  6.77480678e-01\n",
      "  5.78131518e-01  1.05278616e-01 -5.45114640e-02  1.19158424e-01\n",
      "  8.26003440e-01  4.04702399e-01  3.71542629e-02  7.13173633e-02\n",
      "  6.73712364e-01  3.88056141e-01  2.84922095e-02 -2.15124779e-02\n",
      "  1.32665551e-01  2.94969365e-02  2.73874093e-01  7.03764281e-01\n",
      "  1.27468160e-01  1.34767622e-01  3.22509728e-01  3.19334107e-01\n",
      "  6.25659021e-01  6.71919203e-02  1.03870446e-01  3.10276124e-01\n",
      "  9.63100315e-01  5.91992326e-01  3.34171426e-01  2.22347739e-01\n",
      "  1.64439239e-01  1.13917253e-01  7.15558707e-01  1.02739234e-01\n",
      "  8.69905620e-01  2.89687679e-01  3.96080661e-01  8.45532225e-01\n",
      "  6.40666730e-01  1.19013993e-01  6.63513675e-02  2.17186288e-01\n",
      " -7.65221864e-03  4.94700374e-01  2.16715815e-01  3.12932173e-01\n",
      "  3.56214502e-01  2.46116971e-01  1.12632183e-01]\n"
     ]
    }
   ],
   "source": [
    "# predict on test data\n",
    "y_pred = model.predict(X_test_scaled)\n",
    "print(y_pred)"
   ]
  },
  {
   "cell_type": "code",
   "execution_count": 8,
   "metadata": {},
   "outputs": [
    {
     "name": "stdout",
     "output_type": "stream",
     "text": [
      "[0. 0. 0. 0. 0. 0. 0. 0. 1. 1. 0. 1. 0. 0. 0. 0. 0. 0. 1. 1. 0. 0. 0. 0.\n",
      " 1. 1. 0. 0. 0. 0. 1. 1. 1. 1. 1. 1. 1. 0. 0. 1. 0. 1. 1. 0. 0. 1. 1. 0.\n",
      " 0. 1. 0. 1. 1. 0. 0. 0. 1. 0. 0. 1. 1. 0. 0. 0. 0. 1. 0. 1. 0. 1. 1. 0.\n",
      " 0. 0. 0. 0. 0. 0. 0. 0. 1. 0. 0. 0. 0. 1. 1. 0. 0. 0. 0. 0. 0. 0. 0. 1.\n",
      " 0. 0. 1. 0. 1. 0. 1. 1. 1. 0. 0. 1. 0. 0. 0. 0. 0. 1. 0. 0. 1. 0. 0. 0.\n",
      " 0. 0. 0. 0. 0. 0. 0. 1. 1. 1. 1. 1. 0. 0. 1. 0. 0. 1. 1. 0. 0. 0. 0. 1.\n",
      " 0. 0. 0. 0. 0. 1. 0. 0. 0. 0. 0. 0. 0. 1. 1. 0. 0. 1. 0. 0. 0. 1. 0. 0.\n",
      " 1. 0. 1. 0. 0. 1. 1. 0. 0. 0. 0. 0. 1. 1. 0. 1. 1. 0. 0. 0. 1. 0. 0. 0.\n",
      " 1. 0. 0. 0. 0. 0. 0. 1. 0. 0. 0. 0. 1. 0. 0. 0. 1. 1. 0. 0. 0. 0. 1. 0.\n",
      " 1. 0. 0. 1. 1. 0. 0. 0. 0. 0. 0. 0. 0. 0. 0.]\n"
     ]
    }
   ],
   "source": [
    "y_pred[y_pred>=0.5] = 1\n",
    "y_pred[y_pred<0.5] = 0\n",
    "print(y_pred)"
   ]
  },
  {
   "cell_type": "code",
   "execution_count": 9,
   "metadata": {},
   "outputs": [
    {
     "name": "stdout",
     "output_type": "stream",
     "text": [
      "0.7445887445887446\n"
     ]
    }
   ],
   "source": [
    "# evaluate the model\n",
    "print(accuracy_score(y_test, y_pred))"
   ]
  },
  {
   "cell_type": "code",
   "execution_count": 10,
   "metadata": {},
   "outputs": [
    {
     "name": "stdout",
     "output_type": "stream",
     "text": [
      "[[125  26]\n",
      " [ 33  47]]\n"
     ]
    }
   ],
   "source": [
    "print(confusion_matrix(y_test, y_pred))"
   ]
  },
  {
   "cell_type": "code",
   "execution_count": null,
   "metadata": {},
   "outputs": [],
   "source": []
  }
 ],
 "metadata": {
  "kernelspec": {
   "display_name": "Python 3",
   "language": "python",
   "name": "python3"
  },
  "language_info": {
   "codemirror_mode": {
    "name": "ipython",
    "version": 3
   },
   "file_extension": ".py",
   "mimetype": "text/x-python",
   "name": "python",
   "nbconvert_exporter": "python",
   "pygments_lexer": "ipython3",
   "version": "3.8.5"
  }
 },
 "nbformat": 4,
 "nbformat_minor": 4
}
